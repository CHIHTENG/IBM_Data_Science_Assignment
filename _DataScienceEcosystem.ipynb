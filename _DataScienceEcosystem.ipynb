{
 "cells": [
  {
   "cell_type": "markdown",
   "id": "d2daef35-9c4a-443c-a6b8-61674456b868",
   "metadata": {},
   "source": [
    "# Data Science Tools and Ecosystem"
   ]
  },
  {
   "cell_type": "markdown",
   "id": "c9fb61ea-653d-4f98-afda-c5e358b1782b",
   "metadata": {},
   "source": [
    "In this notebook, Data Science Tools and Ecosystem are summarized.\n",
    "Objectives:\n",
    "- List popular languages for Data Science\n",
    "- List useful open development environment tools\n",
    "- Quick exercise on Python calculation\n"
   ]
  },
  {
   "cell_type": "markdown",
   "id": "ee32f624-77f4-4a70-9f5b-da95d6956ec5",
   "metadata": {},
   "source": [
    "Some of the popular languages that Data Scientists use are:\n",
    "1. Python\n",
    "2. R\n",
    "3. SQL"
   ]
  },
  {
   "cell_type": "markdown",
   "id": "571c36cc-4c79-43f6-b24c-24a6be0cde84",
   "metadata": {},
   "source": [
    "Some of the commonly used libraries used by Data Scientists include:\n",
    "1. ggplot2 for R\n",
    "2. NumPy for Python\n",
    "3. Pandas for Python\n",
    "4. Matplotlib for Python\n",
    "5. Apache Spark for Python"
   ]
  },
  {
   "cell_type": "markdown",
   "id": "185ab0ab-6d70-407c-a1b4-d059fb8d21d0",
   "metadata": {},
   "source": [
    "|Data Science Tools|\n",
    "-----------------\n",
    "|Jupyter lab|\n",
    "|VS code|\n",
    "|R studio|"
   ]
  },
  {
   "cell_type": "markdown",
   "id": "3b12a9eb-6b58-4575-b65d-2ba50b1c1a52",
   "metadata": {},
   "source": [
    "### Below are a few examples of evaluating arithmetic expressions in Python.\n"
   ]
  },
  {
   "cell_type": "code",
   "execution_count": 4,
   "id": "0553d150-6749-43d5-92d3-f64671823758",
   "metadata": {
    "tags": []
   },
   "outputs": [
    {
     "data": {
      "text/plain": [
       "17"
      ]
     },
     "execution_count": 4,
     "metadata": {},
     "output_type": "execute_result"
    }
   ],
   "source": [
    "# This a simple arithmetic expression to mutiply then add integers\n",
    "(3*4)+5"
   ]
  },
  {
   "cell_type": "code",
   "execution_count": 5,
   "id": "584ceb57-397b-422e-9332-7af966302c6b",
   "metadata": {
    "tags": []
   },
   "outputs": [
    {
     "data": {
      "text/plain": [
       "3.3333333333333335"
      ]
     },
     "execution_count": 5,
     "metadata": {},
     "output_type": "execute_result"
    }
   ],
   "source": [
    "# This will convert 200 minutes to hours by diving by 60\n",
    "200/60"
   ]
  },
  {
   "cell_type": "markdown",
   "id": "393c4fc3-fc47-492d-b0fa-b19d519a5696",
   "metadata": {},
   "source": [
    "## Author\n",
    "Chin Teng"
   ]
  },
  {
   "cell_type": "code",
   "execution_count": null,
   "id": "80c73901-8221-41dd-be0e-b64f0a456473",
   "metadata": {},
   "outputs": [],
   "source": []
  }
 ],
 "metadata": {
  "kernelspec": {
   "display_name": "Python",
   "language": "python",
   "name": "conda-env-python-py"
  },
  "language_info": {
   "codemirror_mode": {
    "name": "ipython",
    "version": 3
   },
   "file_extension": ".py",
   "mimetype": "text/x-python",
   "name": "python",
   "nbconvert_exporter": "python",
   "pygments_lexer": "ipython3",
   "version": "3.7.12"
  }
 },
 "nbformat": 4,
 "nbformat_minor": 5
}
